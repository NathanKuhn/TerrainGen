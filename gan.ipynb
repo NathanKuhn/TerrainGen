{
 "cells": [
  {
   "cell_type": "code",
   "execution_count": 1,
   "metadata": {},
   "outputs": [],
   "source": [
    "device = 'cuda'"
   ]
  },
  {
   "cell_type": "code",
   "execution_count": 2,
   "metadata": {},
   "outputs": [],
   "source": [
    "import numpy as np\n",
    "import torch\n",
    "import torch.nn as nn\n",
    "import matplotlib.pyplot as plt"
   ]
  },
  {
   "cell_type": "code",
   "execution_count": null,
   "metadata": {},
   "outputs": [
    {
     "name": "stdout",
     "output_type": "stream",
     "text": [
      "torch.Size([65349, 1, 64, 64])\n"
     ]
    }
   ],
   "source": [
    "data = np.load('dataset/terrain_dataset.npy').astype(np.float32)\n",
    "\n",
    "data -= np.mean(data)\n",
    "data /= np.std(data)\n",
    "\n",
    "data = torch.from_numpy(data).float()\n",
    "data = data.view(-1, 1, 64, 64)\n",
    "dataset = torch.utils.data.TensorDataset(data)\n",
    "train, test = torch.utils.data.random_split(dataset, [0.9, 0.1])\n",
    "train_loader = torch.utils.data.DataLoader(train, batch_size=32, shuffle=True)\n",
    "test_loader = torch.utils.data.DataLoader(test, batch_size=32, shuffle=True)\n",
    "print(data.shape)\n"
   ]
  },
  {
   "cell_type": "code",
   "execution_count": 4,
   "metadata": {},
   "outputs": [],
   "source": [
    "def weights_init(m):\n",
    "    classname = m.__class__.__name__\n",
    "    if classname.find('Conv') != -1:\n",
    "        nn.init.normal_(m.weight.data, 0.0, 0.02)\n",
    "    elif classname.find('Linear') != -1:\n",
    "        nn.init.normal_(m.weight.data, 1.0, 0.02)\n",
    "        nn.init.constant_(m.bias.data, 0.0)"
   ]
  },
  {
   "cell_type": "code",
   "execution_count": 5,
   "metadata": {},
   "outputs": [],
   "source": [
    "class Generator(nn.Module):\n",
    "    def __init__(self, nz, nf):\n",
    "        super(Generator, self).__init__()\n",
    "        \n",
    "        self.model = nn.Sequential(\n",
    "            # input is Z, going into a convolution\n",
    "            nn.ConvTranspose2d(nz, nf * 8, kernel_size=4, stride=1, padding=0, bias=False),\n",
    "            nn.BatchNorm2d(nf * 8),\n",
    "            nn.ReLU(True),\n",
    "\n",
    "            # state size. (nf * 16) x 4 x 4\n",
    "            nn.ConvTranspose2d(nf * 8, nf * 4, kernel_size=4, stride=2, padding=1, bias=False),\n",
    "            nn.BatchNorm2d(nf * 4),\n",
    "            nn.ReLU(True),\n",
    "\n",
    "            # state size. (nf * 8) x 8 x 8\n",
    "            nn.ConvTranspose2d(nf * 4, nf * 2, kernel_size=4, stride=2, padding=1, bias=False),\n",
    "            nn.BatchNorm2d(nf * 2),\n",
    "            nn.ReLU(True),\n",
    "\n",
    "            # state size. (nf * 4) x 16 x 16\n",
    "            nn.ConvTranspose2d(nf * 2, nf, kernel_size=4, stride=2, padding=1, bias=False),\n",
    "            nn.BatchNorm2d(nf),\n",
    "            nn.ReLU(True),\n",
    "\n",
    "            # state size. (nf * 2) x 32 x 32\n",
    "            nn.ConvTranspose2d(nf, 1, kernel_size=4, stride=2, padding=1, bias=False),\n",
    "            nn.Tanh(),\n",
    "\n",
    "            # state size. (1) x 64 x 64\n",
    "        )\n",
    "    \n",
    "    def forward(self, input):\n",
    "        return self.model(input)"
   ]
  },
  {
   "cell_type": "code",
   "execution_count": 6,
   "metadata": {},
   "outputs": [],
   "source": [
    "class Discriminator(nn.Module):\n",
    "    def __init__(self, nf):\n",
    "        super(Discriminator, self).__init__()\n",
    "        \n",
    "        self.model = nn.Sequential(\n",
    "            # input is (nc) x 64 x 64\n",
    "            nn.Conv2d(1, nf, kernel_size=4, stride=2, padding=1, bias=False),\n",
    "            nn.LeakyReLU(0.2, inplace=True),\n",
    "\n",
    "            # state size. (nf) x 32 x 32\n",
    "            nn.Conv2d(nf, nf * 2, kernel_size=4, stride=2, padding=1, bias=False),\n",
    "            nn.BatchNorm2d(nf * 2),\n",
    "            nn.LeakyReLU(0.2, inplace=True),\n",
    "\n",
    "            # state size. (nf * 2) x 16 x 16\n",
    "            nn.Conv2d(nf * 2, nf * 4, kernel_size=4, stride=2, padding=1, bias=False),\n",
    "            nn.BatchNorm2d(nf * 4),\n",
    "            nn.LeakyReLU(0.2, inplace=True),\n",
    "\n",
    "            # state size. (nf * 4) x 8 x 8\n",
    "            nn.Conv2d(nf * 4, nf * 8, kernel_size=4, stride=2, padding=1, bias=False),\n",
    "            nn.BatchNorm2d(nf * 8),\n",
    "            nn.LeakyReLU(0.2, inplace=True),\n",
    "\n",
    "            # state size. (nf * 8) x 4 x 4\n",
    "            nn.Conv2d(nf * 8, 1, kernel_size=4, stride=1, padding=0, bias=False),\n",
    "            nn.Sigmoid(),\n",
    "        )\n",
    "\n",
    "    def forward(self, input):\n",
    "        return self.model(input)"
   ]
  },
  {
   "cell_type": "code",
   "execution_count": 7,
   "metadata": {},
   "outputs": [
    {
     "data": {
      "text/plain": [
       "Discriminator(\n",
       "  (model): Sequential(\n",
       "    (0): Conv2d(1, 64, kernel_size=(4, 4), stride=(2, 2), padding=(1, 1), bias=False)\n",
       "    (1): LeakyReLU(negative_slope=0.2, inplace=True)\n",
       "    (2): Conv2d(64, 128, kernel_size=(4, 4), stride=(2, 2), padding=(1, 1), bias=False)\n",
       "    (3): BatchNorm2d(128, eps=1e-05, momentum=0.1, affine=True, track_running_stats=True)\n",
       "    (4): LeakyReLU(negative_slope=0.2, inplace=True)\n",
       "    (5): Conv2d(128, 256, kernel_size=(4, 4), stride=(2, 2), padding=(1, 1), bias=False)\n",
       "    (6): BatchNorm2d(256, eps=1e-05, momentum=0.1, affine=True, track_running_stats=True)\n",
       "    (7): LeakyReLU(negative_slope=0.2, inplace=True)\n",
       "    (8): Conv2d(256, 512, kernel_size=(4, 4), stride=(2, 2), padding=(1, 1), bias=False)\n",
       "    (9): BatchNorm2d(512, eps=1e-05, momentum=0.1, affine=True, track_running_stats=True)\n",
       "    (10): LeakyReLU(negative_slope=0.2, inplace=True)\n",
       "    (11): Conv2d(512, 1, kernel_size=(4, 4), stride=(1, 1), bias=False)\n",
       "    (12): Sigmoid()\n",
       "  )\n",
       ")"
      ]
     },
     "execution_count": 7,
     "metadata": {},
     "output_type": "execute_result"
    }
   ],
   "source": [
    "net_discriminator = Discriminator(64).to(device)\n",
    "net_discriminator.apply(weights_init)\n",
    "net_generator = Generator(100, 64).to(device)\n",
    "net_generator.apply(weights_init)\n",
    "\n",
    "net_discriminator"
   ]
  },
  {
   "cell_type": "code",
   "execution_count": 8,
   "metadata": {},
   "outputs": [],
   "source": [
    "criterion = nn.BCELoss()\n",
    "fixed_noise = torch.randn(64, 100, 1, 1, device=device)\n",
    "real_label = 1.0\n",
    "fake_label = 0.0\n",
    "\n",
    "optimizerD = torch.optim.Adam(net_discriminator.parameters(), lr=0.0002, betas=(0.5, 0.999))\n",
    "optimizerG = torch.optim.Adam(net_generator.parameters(), lr=0.0002, betas=(0.5, 0.999))"
   ]
  },
  {
   "cell_type": "code",
   "execution_count": 9,
   "metadata": {},
   "outputs": [
    {
     "name": "stdout",
     "output_type": "stream",
     "text": [
      "[0][0/919]\tD Loss: 1.8980\tG Loss: 6.3188\tD(x): 0.7327\tD(G(z)): 0.7353 / 0.0030\n",
      "[0][50/919]\tD Loss: 0.0045\tG Loss: 19.9770\tD(x): 0.9955\tD(G(z)): 0.0000 / 0.0000\n",
      "[0][100/919]\tD Loss: 0.0329\tG Loss: 10.6793\tD(x): 0.9953\tD(G(z)): 0.0277 / 0.0000\n",
      "[0][150/919]\tD Loss: 0.0052\tG Loss: 7.5546\tD(x): 0.9980\tD(G(z)): 0.0032 / 0.0006\n",
      "[0][200/919]\tD Loss: 0.0027\tG Loss: 7.5004\tD(x): 0.9988\tD(G(z)): 0.0015 / 0.0006\n",
      "[0][250/919]\tD Loss: 0.0025\tG Loss: 7.5540\tD(x): 0.9994\tD(G(z)): 0.0018 / 0.0006\n",
      "[0][300/919]\tD Loss: 0.0013\tG Loss: 46.1720\tD(x): 0.9987\tD(G(z)): 0.0000 / 0.0000\n",
      "[0][350/919]\tD Loss: 0.0002\tG Loss: 46.1423\tD(x): 0.9998\tD(G(z)): 0.0000 / 0.0000\n",
      "[0][400/919]\tD Loss: 0.0003\tG Loss: 46.0720\tD(x): 0.9997\tD(G(z)): 0.0000 / 0.0000\n",
      "[0][450/919]\tD Loss: 0.0002\tG Loss: 45.9023\tD(x): 0.9998\tD(G(z)): 0.0000 / 0.0000\n",
      "[0][500/919]\tD Loss: 0.0002\tG Loss: 45.9283\tD(x): 0.9998\tD(G(z)): 0.0000 / 0.0000\n",
      "[0][550/919]\tD Loss: 0.0001\tG Loss: 45.9010\tD(x): 0.9999\tD(G(z)): 0.0000 / 0.0000\n",
      "[0][600/919]\tD Loss: 0.0001\tG Loss: 45.7909\tD(x): 0.9999\tD(G(z)): 0.0000 / 0.0000\n",
      "[0][650/919]\tD Loss: 0.0000\tG Loss: 45.7591\tD(x): 1.0000\tD(G(z)): 0.0000 / 0.0000\n",
      "[0][700/919]\tD Loss: 0.0000\tG Loss: 45.8161\tD(x): 1.0000\tD(G(z)): 0.0000 / 0.0000\n",
      "[0][750/919]\tD Loss: 0.0000\tG Loss: 45.9135\tD(x): 1.0000\tD(G(z)): 0.0000 / 0.0000\n",
      "[0][800/919]\tD Loss: 0.0000\tG Loss: 45.8015\tD(x): 1.0000\tD(G(z)): 0.0000 / 0.0000\n",
      "[0][850/919]\tD Loss: 0.0000\tG Loss: 45.7857\tD(x): 1.0000\tD(G(z)): 0.0000 / 0.0000\n"
     ]
    },
    {
     "ename": "KeyboardInterrupt",
     "evalue": "",
     "output_type": "error",
     "traceback": [
      "\u001b[1;31m---------------------------------------------------------------------------\u001b[0m",
      "\u001b[1;31mKeyboardInterrupt\u001b[0m                         Traceback (most recent call last)",
      "Cell \u001b[1;32mIn[9], line 26\u001b[0m\n\u001b[0;32m     23\u001b[0m errD_fake \u001b[38;5;241m=\u001b[39m criterion(output, label)\n\u001b[0;32m     24\u001b[0m errD_fake\u001b[38;5;241m.\u001b[39mbackward()\n\u001b[1;32m---> 26\u001b[0m D_G_z1 \u001b[38;5;241m=\u001b[39m \u001b[43moutput\u001b[49m\u001b[38;5;241;43m.\u001b[39;49m\u001b[43mmean\u001b[49m\u001b[43m(\u001b[49m\u001b[43m)\u001b[49m\u001b[38;5;241;43m.\u001b[39;49m\u001b[43mitem\u001b[49m\u001b[43m(\u001b[49m\u001b[43m)\u001b[49m\n\u001b[0;32m     27\u001b[0m errD \u001b[38;5;241m=\u001b[39m errD_real \u001b[38;5;241m+\u001b[39m errD_fake\n\u001b[0;32m     29\u001b[0m optimizerD\u001b[38;5;241m.\u001b[39mstep()\n",
      "\u001b[1;31mKeyboardInterrupt\u001b[0m: "
     ]
    }
   ],
   "source": [
    "for epoch in range(10):\n",
    "    for i, data in enumerate(train_loader):\n",
    "        ##############\n",
    "        # Training D #\n",
    "        ##############\n",
    "        net_discriminator.zero_grad()\n",
    "\n",
    "        # Train on real images\n",
    "        real_data = data[0].to(device)\n",
    "        batch_size = real_data.size(0)\n",
    "        label = torch.full((batch_size,), real_label, device=device)\n",
    "        output = net_discriminator(real_data).view(-1)\n",
    "        errD_real = criterion(output, label)\n",
    "        errD_real.backward()\n",
    "\n",
    "        D_x = output.mean().item()\n",
    "\n",
    "        # Train on fake images\n",
    "        noise = torch.randn(batch_size, 100, 1, 1, device=device)\n",
    "        fake = net_generator(noise)\n",
    "        label.fill_(fake_label)\n",
    "        output = net_discriminator(fake.detach()).view(-1)\n",
    "        errD_fake = criterion(output, label)\n",
    "        errD_fake.backward()\n",
    "\n",
    "        D_G_z1 = output.mean().item()\n",
    "        errD = errD_real + errD_fake\n",
    "\n",
    "        optimizerD.step()\n",
    "\n",
    "        ##############\n",
    "        # Training G #\n",
    "        ##############\n",
    "        net_generator.zero_grad()\n",
    "        label.fill_(real_label)\n",
    "        output = net_discriminator(fake).view(-1)\n",
    "        errG = criterion(output, label)\n",
    "        errG.backward()\n",
    "\n",
    "        D_G_z2 = output.mean().item()\n",
    "\n",
    "        optimizerG.step()\n",
    "\n",
    "        if i % 50 == 0:\n",
    "            print(f'[{epoch}][{i}/{len(train_loader)}]\\t'\n",
    "                  f'D Loss: {errD.item():.4f}\\t'\n",
    "                  f'G Loss: {errG.item():.4f}\\t'\n",
    "                  f'D(x): {D_x:.4f}\\t'\n",
    "                  f'D(G(z)): {D_G_z1:.4f} / {D_G_z2:.4f}')\n",
    "        "
   ]
  },
  {
   "cell_type": "code",
   "execution_count": null,
   "metadata": {},
   "outputs": [
    {
     "data": {
      "image/png": "[encoded data removed]",
      "text/plain": [
       "<Figure size 800x800 with 1 Axes>"
      ]
     },
     "metadata": {},
     "output_type": "display_data"
    }
   ],
   "source": [
    "fig = plt.figure(figsize=(8, 8))\n",
    "with torch.no_grad():\n",
    "    fake = net_generator(fixed_noise).detach().cpu()\n",
    "    plt.imshow(fake[0, 0], cmap='gray')\n",
    "    plt.axis('off')"
   ]
  }
 ],
 "metadata": {
  "kernelspec": {
   "display_name": "env",
   "language": "python",
   "name": "python3"
  },
  "language_info": {
   "codemirror_mode": {
    "name": "ipython",
    "version": 3
   },
   "file_extension": ".py",
   "mimetype": "text/x-python",
   "name": "python",
   "nbconvert_exporter": "python",
   "pygments_lexer": "ipython3",
   "version": "3.11.6"
  }
 },
 "nbformat": 4,
 "nbformat_minor": 2
}
